{
 "cells": [
  {
   "cell_type": "code",
   "execution_count": 1,
   "id": "e92171d1-62dd-44d1-af7c-9219327babed",
   "metadata": {},
   "outputs": [],
   "source": [
    "#Sai Ram"
   ]
  },
  {
   "cell_type": "markdown",
   "id": "fcaf7473-7db1-4304-8d6f-905595b00052",
   "metadata": {},
   "source": [
    "# Set introduction"
   ]
  },
  {
   "cell_type": "code",
   "execution_count": 82,
   "id": "0af1c80c-6df0-4997-8cfe-dac3412b8fbe",
   "metadata": {},
   "outputs": [
    {
     "data": {
      "text/plain": [
       "{}"
      ]
     },
     "execution_count": 82,
     "metadata": {},
     "output_type": "execute_result"
    }
   ],
   "source": [
    "s = {} #by default curly brackets creates a dict\n",
    "s"
   ]
  },
  {
   "cell_type": "code",
   "execution_count": 3,
   "id": "bee9b542-5d20-427a-af08-ac108d7c6543",
   "metadata": {},
   "outputs": [
    {
     "data": {
      "text/plain": [
       "dict"
      ]
     },
     "execution_count": 3,
     "metadata": {},
     "output_type": "execute_result"
    }
   ],
   "source": [
    "type(s1)"
   ]
  },
  {
   "cell_type": "code",
   "execution_count": 21,
   "id": "1d384bc9-961b-4331-b08d-7fabf3ef1140",
   "metadata": {},
   "outputs": [
    {
     "data": {
      "text/plain": [
       "set()"
      ]
     },
     "execution_count": 21,
     "metadata": {},
     "output_type": "execute_result"
    }
   ],
   "source": [
    "s1 = set() #creates an empty set, to define a set,we should use set() function\n",
    "s1"
   ]
  },
  {
   "cell_type": "code",
   "execution_count": 22,
   "id": "67996a2a-338c-4162-baf3-013ff911c0dc",
   "metadata": {},
   "outputs": [
    {
     "data": {
      "text/plain": [
       "set"
      ]
     },
     "execution_count": 22,
     "metadata": {},
     "output_type": "execute_result"
    }
   ],
   "source": [
    "type(s1)"
   ]
  },
  {
   "cell_type": "markdown",
   "id": "ee874caf-614c-45f2-992f-647136d74c3d",
   "metadata": {},
   "source": [
    "# add function"
   ]
  },
  {
   "cell_type": "code",
   "execution_count": 34,
   "id": "e8de1b02-1e85-4ab4-a76f-b15a83743ffd",
   "metadata": {},
   "outputs": [
    {
     "data": {
      "text/plain": [
       "{(1+2j), 10, 2.4, 20, 60, 'Sai', True}"
      ]
     },
     "execution_count": 34,
     "metadata": {},
     "output_type": "execute_result"
    }
   ],
   "source": [
    "s1.add(10) \n",
    "s1.add(2.4)\n",
    "s1.add(20)\n",
    "\n",
    "s1"
   ]
  },
  {
   "cell_type": "code",
   "execution_count": 37,
   "id": "4167dc22-1240-410c-b395-dededf18ae2a",
   "metadata": {},
   "outputs": [
    {
     "data": {
      "text/plain": [
       "{(1+2j), 10, 2.4, 20, 60, 'Sai', True}"
      ]
     },
     "execution_count": 37,
     "metadata": {},
     "output_type": "execute_result"
    }
   ],
   "source": [
    "s1.add(\"Sai\") #we can add different data type values to a set\n",
    "s1.add(True)\n",
    "s1.add(1+2j)\n",
    "s1.add(60)\n",
    "\n",
    "s1"
   ]
  },
  {
   "cell_type": "code",
   "execution_count": 30,
   "id": "f4e26cfb-a5b2-467e-9072-f0a9687f58c8",
   "metadata": {},
   "outputs": [
    {
     "data": {
      "text/plain": [
       "{(1+2j), 10, 2.4, 20, 60, 'Sai', True}"
      ]
     },
     "execution_count": 30,
     "metadata": {},
     "output_type": "execute_result"
    }
   ],
   "source": [
    "s1 # set will not return the values in the same order which we've added the elements "
   ]
  },
  {
   "cell_type": "code",
   "execution_count": 38,
   "id": "16937679-937f-4cc6-aec8-414f0990a753",
   "metadata": {},
   "outputs": [
    {
     "name": "stdout",
     "output_type": "stream",
     "text": [
      "{True, 2.4, 'Sai', (1+2j), 10, 20, 60}\n"
     ]
    }
   ],
   "source": [
    "print(s1) #set will print the values in a random order"
   ]
  },
  {
   "cell_type": "code",
   "execution_count": 39,
   "id": "7f55a17d-99de-451b-bebb-1f1aca628404",
   "metadata": {},
   "outputs": [
    {
     "name": "stdout",
     "output_type": "stream",
     "text": [
      "{True, 2.4, 'Sai', (1+2j), 10, 20, 60}\n"
     ]
    }
   ],
   "source": [
    "print(s1)"
   ]
  },
  {
   "cell_type": "code",
   "execution_count": 40,
   "id": "ff392cf9-5fbd-4861-945f-9fd6202e17a6",
   "metadata": {},
   "outputs": [
    {
     "data": {
      "text/plain": [
       "set()"
      ]
     },
     "execution_count": 40,
     "metadata": {},
     "output_type": "execute_result"
    }
   ],
   "source": [
    "s2 = set()\n",
    "s2"
   ]
  },
  {
   "cell_type": "code",
   "execution_count": 42,
   "id": "a0f7fdb6-5fd4-4fb6-899c-af689bf283a6",
   "metadata": {},
   "outputs": [
    {
     "ename": "TypeError",
     "evalue": "set.add() takes exactly one argument (2 given)",
     "output_type": "error",
     "traceback": [
      "\u001b[1;31m---------------------------------------------------------------------------\u001b[0m",
      "\u001b[1;31mTypeError\u001b[0m                                 Traceback (most recent call last)",
      "Cell \u001b[1;32mIn[42], line 1\u001b[0m\n\u001b[1;32m----> 1\u001b[0m s2\u001b[38;5;241m.\u001b[39madd(\u001b[38;5;241m10\u001b[39m,\u001b[38;5;241m20\u001b[39m)\n",
      "\u001b[1;31mTypeError\u001b[0m: set.add() takes exactly one argument (2 given)"
     ]
    }
   ],
   "source": [
    "s2.add(10,20) #invalid as only one value can be added at a time"
   ]
  },
  {
   "cell_type": "code",
   "execution_count": 44,
   "id": "21c6d915-a65e-466a-ad5f-506104fc2e0e",
   "metadata": {},
   "outputs": [
    {
     "data": {
      "text/plain": [
       "{10, 100, 200}"
      ]
     },
     "execution_count": 44,
     "metadata": {},
     "output_type": "execute_result"
    }
   ],
   "source": [
    "s2.add(100)\n",
    "s2.add(10)\n",
    "s2.add(200)\n",
    "\n",
    "s2 #this will return the set values in sorted way(ascending order)"
   ]
  },
  {
   "cell_type": "code",
   "execution_count": 45,
   "id": "3dae11b1-8698-455e-b437-001fb54f4d78",
   "metadata": {},
   "outputs": [
    {
     "name": "stdout",
     "output_type": "stream",
     "text": [
      "{200, 10, 100}\n"
     ]
    }
   ],
   "source": [
    "print(s2) #print will print the values in a random order"
   ]
  },
  {
   "cell_type": "code",
   "execution_count": 46,
   "id": "7320f9da-632c-443d-90c4-5d35be38711d",
   "metadata": {},
   "outputs": [
    {
     "name": "stdout",
     "output_type": "stream",
     "text": [
      "{200, 10, 100}\n",
      "{200, 10, 100}\n"
     ]
    }
   ],
   "source": [
    "print(s2)\n",
    "print(s2)"
   ]
  },
  {
   "cell_type": "code",
   "execution_count": 47,
   "id": "9cfbc4a3-d8fa-4cf4-a3dc-77aff61324e8",
   "metadata": {},
   "outputs": [
    {
     "data": {
      "text/plain": [
       "{10, 100, 200}"
      ]
     },
     "execution_count": 47,
     "metadata": {},
     "output_type": "execute_result"
    }
   ],
   "source": [
    "s2"
   ]
  },
  {
   "cell_type": "code",
   "execution_count": 48,
   "id": "0be57baa-d069-4f5a-b413-12b42dca2096",
   "metadata": {},
   "outputs": [
    {
     "data": {
      "text/plain": [
       "set()"
      ]
     },
     "execution_count": 48,
     "metadata": {},
     "output_type": "execute_result"
    }
   ],
   "source": [
    "s3 = set()\n",
    "s3"
   ]
  },
  {
   "cell_type": "code",
   "execution_count": 49,
   "id": "afa02f48-7530-473d-90d2-949ceaa747d1",
   "metadata": {},
   "outputs": [
    {
     "data": {
      "text/plain": [
       "{'a', 'b', 'd', 'k', 'z'}"
      ]
     },
     "execution_count": 49,
     "metadata": {},
     "output_type": "execute_result"
    }
   ],
   "source": [
    "s3.add('b')\n",
    "s3.add('d')\n",
    "s3.add('z')\n",
    "s3.add('a')\n",
    "s3.add('k')\n",
    "\n",
    "s3"
   ]
  },
  {
   "cell_type": "code",
   "execution_count": 50,
   "id": "0dda964d-5771-4e18-87fb-1e396091eece",
   "metadata": {},
   "outputs": [
    {
     "name": "stdout",
     "output_type": "stream",
     "text": [
      "{True, 2.4, 'Sai', (1+2j), 10, 20, 60}\n",
      "{200, 10, 100}\n",
      "{'a', 'z', 'b', 'd', 'k'}\n"
     ]
    }
   ],
   "source": [
    "print(s1)\n",
    "print(s2)\n",
    "print(s3)"
   ]
  },
  {
   "cell_type": "code",
   "execution_count": 51,
   "id": "5fef867a-8d7c-4e46-8f01-9977ebea16a6",
   "metadata": {},
   "outputs": [
    {
     "data": {
      "text/plain": [
       "5"
      ]
     },
     "execution_count": 51,
     "metadata": {},
     "output_type": "execute_result"
    }
   ],
   "source": [
    "len(s3)"
   ]
  },
  {
   "cell_type": "markdown",
   "id": "abc25b79-420e-43f8-9cae-2304bf427636",
   "metadata": {},
   "source": [
    "# Indexing and slicing are not allowed in Set"
   ]
  },
  {
   "cell_type": "code",
   "execution_count": 53,
   "id": "ad325ed3-149a-41b2-93c0-db9694ef3f70",
   "metadata": {},
   "outputs": [
    {
     "ename": "TypeError",
     "evalue": "'set' object is not subscriptable",
     "output_type": "error",
     "traceback": [
      "\u001b[1;31m---------------------------------------------------------------------------\u001b[0m",
      "\u001b[1;31mTypeError\u001b[0m                                 Traceback (most recent call last)",
      "Cell \u001b[1;32mIn[53], line 1\u001b[0m\n\u001b[1;32m----> 1\u001b[0m s3[\u001b[38;5;241m0\u001b[39m]\n",
      "\u001b[1;31mTypeError\u001b[0m: 'set' object is not subscriptable"
     ]
    }
   ],
   "source": [
    "s3[0] #invalid as set doesn't allow indexing "
   ]
  },
  {
   "cell_type": "code",
   "execution_count": 54,
   "id": "ff7723c3-066b-450c-9ef8-9766fd5dc95a",
   "metadata": {},
   "outputs": [
    {
     "ename": "TypeError",
     "evalue": "'set' object is not subscriptable",
     "output_type": "error",
     "traceback": [
      "\u001b[1;31m---------------------------------------------------------------------------\u001b[0m",
      "\u001b[1;31mTypeError\u001b[0m                                 Traceback (most recent call last)",
      "Cell \u001b[1;32mIn[54], line 1\u001b[0m\n\u001b[1;32m----> 1\u001b[0m s3[:\u001b[38;5;241m3\u001b[39m]\n",
      "\u001b[1;31mTypeError\u001b[0m: 'set' object is not subscriptable"
     ]
    }
   ],
   "source": [
    "s3[:3] #invalid as set doesn't allow slicing"
   ]
  },
  {
   "cell_type": "code",
   "execution_count": 55,
   "id": "4ccccccc-e146-4cf9-9c3c-13a776ffa232",
   "metadata": {},
   "outputs": [
    {
     "ename": "TypeError",
     "evalue": "'set' object does not support item assignment",
     "output_type": "error",
     "traceback": [
      "\u001b[1;31m---------------------------------------------------------------------------\u001b[0m",
      "\u001b[1;31mTypeError\u001b[0m                                 Traceback (most recent call last)",
      "Cell \u001b[1;32mIn[55], line 1\u001b[0m\n\u001b[1;32m----> 1\u001b[0m s3[\u001b[38;5;241m0\u001b[39m] \u001b[38;5;241m=\u001b[39m \u001b[38;5;241m100\u001b[39m\n",
      "\u001b[1;31mTypeError\u001b[0m: 'set' object does not support item assignment"
     ]
    }
   ],
   "source": [
    "s3[0] = 100 #invalid as set values are immutable(we can't change the set values)"
   ]
  },
  {
   "cell_type": "code",
   "execution_count": 58,
   "id": "4057e986-9ef9-4746-aeac-91e19ab44deb",
   "metadata": {},
   "outputs": [
    {
     "data": {
      "text/plain": [
       "{100, 'a', 'b', 'd', 'k', 'z'}"
      ]
     },
     "execution_count": 58,
     "metadata": {},
     "output_type": "execute_result"
    }
   ],
   "source": [
    "s3.add(100) #set is growable(we can add any number of elements to a set dynamically)\n",
    "\n",
    "s3"
   ]
  },
  {
   "cell_type": "code",
   "execution_count": 60,
   "id": "dde83ea4-7724-4d7e-8919-8ea06958af2d",
   "metadata": {},
   "outputs": [
    {
     "data": {
      "text/plain": [
       "{100, 'a', 'b', 'd', 'k', 'z'}"
      ]
     },
     "execution_count": 60,
     "metadata": {},
     "output_type": "execute_result"
    }
   ],
   "source": [
    "s3.add(100) #set ignores the duplicate values(each value is accepted only once)\n",
    "\n",
    "s3"
   ]
  },
  {
   "cell_type": "code",
   "execution_count": 61,
   "id": "001155d5-48d8-4cc4-bc22-826c681cfd9b",
   "metadata": {},
   "outputs": [
    {
     "data": {
      "text/plain": [
       "{100, 'a', 'b', 'd', 'k', 'z'}"
      ]
     },
     "execution_count": 61,
     "metadata": {},
     "output_type": "execute_result"
    }
   ],
   "source": [
    "s3.add('k')\n",
    "\n",
    "s3"
   ]
  },
  {
   "cell_type": "markdown",
   "id": "5dad9950-ee47-4246-a3c0-5ed183723ae2",
   "metadata": {},
   "source": [
    "# copy a set to another is allowed"
   ]
  },
  {
   "cell_type": "code",
   "execution_count": 71,
   "id": "668ad423-91fb-4f48-84f2-20754cadfa85",
   "metadata": {},
   "outputs": [
    {
     "data": {
      "text/plain": [
       "{100, 'a', 'b', 'd', 'k', 'z'}"
      ]
     },
     "execution_count": 71,
     "metadata": {},
     "output_type": "execute_result"
    }
   ],
   "source": [
    "s4 = s3.copy()\n",
    "s4"
   ]
  },
  {
   "cell_type": "code",
   "execution_count": 72,
   "id": "9a5a39d6-88f5-4909-aaa7-1940c96da01e",
   "metadata": {},
   "outputs": [
    {
     "data": {
      "text/plain": [
       "True"
      ]
     },
     "execution_count": 72,
     "metadata": {},
     "output_type": "execute_result"
    }
   ],
   "source": [
    "s4 == s3"
   ]
  },
  {
   "cell_type": "code",
   "execution_count": 73,
   "id": "03b7a331-2a91-41a4-9d5f-e692bcafb61a",
   "metadata": {},
   "outputs": [
    {
     "name": "stdout",
     "output_type": "stream",
     "text": [
      "{'a', 100, 'b', 'z', 'd', 'k'}\n"
     ]
    }
   ],
   "source": [
    "print(s4)"
   ]
  },
  {
   "cell_type": "markdown",
   "id": "2fa242d9-ff99-44d0-b635-64e92bb74b3e",
   "metadata": {},
   "source": [
    "# Clear function"
   ]
  },
  {
   "cell_type": "code",
   "execution_count": 74,
   "id": "7ec2d21d-4509-4c73-ade5-1917d3ea5aaa",
   "metadata": {},
   "outputs": [],
   "source": [
    "s4.clear() #clears the elements of the set "
   ]
  },
  {
   "cell_type": "code",
   "execution_count": 75,
   "id": "826a134f-5e67-412d-844f-14f390e37941",
   "metadata": {},
   "outputs": [
    {
     "data": {
      "text/plain": [
       "set()"
      ]
     },
     "execution_count": 75,
     "metadata": {},
     "output_type": "execute_result"
    }
   ],
   "source": [
    "s4 # set is empty as we've cleared the elements"
   ]
  },
  {
   "cell_type": "code",
   "execution_count": 76,
   "id": "027a0b9e-245e-46ce-b516-01ecd73a1dea",
   "metadata": {},
   "outputs": [],
   "source": [
    "del s4 #deletes the set from the memory permanently"
   ]
  },
  {
   "cell_type": "code",
   "execution_count": 77,
   "id": "44420760-8315-4d58-9cee-0925874e4475",
   "metadata": {},
   "outputs": [
    {
     "ename": "NameError",
     "evalue": "name 's4' is not defined",
     "output_type": "error",
     "traceback": [
      "\u001b[1;31m---------------------------------------------------------------------------\u001b[0m",
      "\u001b[1;31mNameError\u001b[0m                                 Traceback (most recent call last)",
      "Cell \u001b[1;32mIn[77], line 1\u001b[0m\n\u001b[1;32m----> 1\u001b[0m s4\n",
      "\u001b[1;31mNameError\u001b[0m: name 's4' is not defined"
     ]
    }
   ],
   "source": [
    "s4 # invalid as s4 is deleted from the memory, system can't recognise it"
   ]
  },
  {
   "cell_type": "code",
   "execution_count": 79,
   "id": "959e4840-3af2-4639-a666-ea34d82e021a",
   "metadata": {},
   "outputs": [
    {
     "data": {
      "text/plain": [
       "{10, 100, 200}"
      ]
     },
     "execution_count": 79,
     "metadata": {},
     "output_type": "execute_result"
    }
   ],
   "source": [
    "s4 = s2.copy()\n",
    "\n",
    "s4"
   ]
  },
  {
   "cell_type": "code",
   "execution_count": 81,
   "id": "5c024d40-ec19-462d-9fd8-236b2692fc82",
   "metadata": {},
   "outputs": [
    {
     "data": {
      "text/plain": [
       "{10, 56, 100, 200}"
      ]
     },
     "execution_count": 81,
     "metadata": {},
     "output_type": "execute_result"
    }
   ],
   "source": [
    "s4.add(56)\n",
    "\n",
    "s4"
   ]
  },
  {
   "cell_type": "markdown",
   "id": "fdc94287-076d-4e49-90a7-4c04102a74d0",
   "metadata": {},
   "source": [
    "# pop function"
   ]
  },
  {
   "cell_type": "code",
   "execution_count": 83,
   "id": "3453c980-3f5b-40a3-a219-b15ebdf31f5f",
   "metadata": {},
   "outputs": [
    {
     "data": {
      "text/plain": [
       "200"
      ]
     },
     "execution_count": 83,
     "metadata": {},
     "output_type": "execute_result"
    }
   ],
   "source": [
    "s4.pop() #removes a random element from the set"
   ]
  },
  {
   "cell_type": "code",
   "execution_count": 84,
   "id": "28bce08c-ad6e-4904-ab06-291081d3220a",
   "metadata": {},
   "outputs": [
    {
     "data": {
      "text/plain": [
       "{10, 56, 100}"
      ]
     },
     "execution_count": 84,
     "metadata": {},
     "output_type": "execute_result"
    }
   ],
   "source": [
    "s4"
   ]
  },
  {
   "cell_type": "code",
   "execution_count": 85,
   "id": "d05187de-f7c1-412a-b900-9242d5a56e72",
   "metadata": {},
   "outputs": [
    {
     "data": {
      "text/plain": [
       "10"
      ]
     },
     "execution_count": 85,
     "metadata": {},
     "output_type": "execute_result"
    }
   ],
   "source": [
    "s4.pop()"
   ]
  },
  {
   "cell_type": "code",
   "execution_count": 86,
   "id": "09057906-8453-472c-9a32-e3db0e06572f",
   "metadata": {},
   "outputs": [
    {
     "data": {
      "text/plain": [
       "{30, 40, 56, 60, 100}"
      ]
     },
     "execution_count": 86,
     "metadata": {},
     "output_type": "execute_result"
    }
   ],
   "source": [
    "s4.add(30)\n",
    "s4.add(40)\n",
    "s4.add(60)\n",
    "\n",
    "s4"
   ]
  },
  {
   "cell_type": "code",
   "execution_count": 87,
   "id": "90f4798c-fd51-4c72-a953-022f447cfac4",
   "metadata": {},
   "outputs": [
    {
     "data": {
      "text/plain": [
       "100"
      ]
     },
     "execution_count": 87,
     "metadata": {},
     "output_type": "execute_result"
    }
   ],
   "source": [
    "s4.pop()"
   ]
  },
  {
   "cell_type": "code",
   "execution_count": 88,
   "id": "8c3ae519-10d6-4115-a1f5-e90868918429",
   "metadata": {},
   "outputs": [
    {
     "data": {
      "text/plain": [
       "56"
      ]
     },
     "execution_count": 88,
     "metadata": {},
     "output_type": "execute_result"
    }
   ],
   "source": [
    "s4.pop()"
   ]
  },
  {
   "cell_type": "code",
   "execution_count": 89,
   "id": "b5b795ac-8f02-430d-82d2-3df98a215896",
   "metadata": {},
   "outputs": [
    {
     "data": {
      "text/plain": [
       "{30, 40, 60}"
      ]
     },
     "execution_count": 89,
     "metadata": {},
     "output_type": "execute_result"
    }
   ],
   "source": [
    "s4"
   ]
  },
  {
   "cell_type": "code",
   "execution_count": 90,
   "id": "82d83a28-fec7-4f06-8718-08e0f117dbf6",
   "metadata": {},
   "outputs": [
    {
     "ename": "TypeError",
     "evalue": "set.pop() takes no arguments (1 given)",
     "output_type": "error",
     "traceback": [
      "\u001b[1;31m---------------------------------------------------------------------------\u001b[0m",
      "\u001b[1;31mTypeError\u001b[0m                                 Traceback (most recent call last)",
      "Cell \u001b[1;32mIn[90], line 1\u001b[0m\n\u001b[1;32m----> 1\u001b[0m s4\u001b[38;5;241m.\u001b[39mpop(\u001b[38;5;241m2\u001b[39m)\n",
      "\u001b[1;31mTypeError\u001b[0m: set.pop() takes no arguments (1 given)"
     ]
    }
   ],
   "source": [
    "s4.pop(2) #invalid as indexing is not allowed in Set, pop() function doesn't take any arguments"
   ]
  },
  {
   "cell_type": "markdown",
   "id": "d8f9f46b-5269-457b-82e2-99312597e90a",
   "metadata": {},
   "source": [
    "# remove function"
   ]
  },
  {
   "cell_type": "code",
   "execution_count": 99,
   "id": "2f1e7c02-24c3-49ce-9abf-f4f98e4ee260",
   "metadata": {},
   "outputs": [
    {
     "data": {
      "text/plain": [
       "{(1+2j), 10, 2.4, 20, 60, 'Sai', True}"
      ]
     },
     "execution_count": 99,
     "metadata": {},
     "output_type": "execute_result"
    }
   ],
   "source": [
    "s1"
   ]
  },
  {
   "cell_type": "code",
   "execution_count": 100,
   "id": "05b56af7-95c0-4230-8724-97f4ad9e4ed3",
   "metadata": {},
   "outputs": [
    {
     "data": {
      "text/plain": [
       "{10, 2.4, 20, 60, 'Sai', True}"
      ]
     },
     "execution_count": 100,
     "metadata": {},
     "output_type": "execute_result"
    }
   ],
   "source": [
    "s1.remove((1+2j)) #removes the specified element from the set\n",
    "\n",
    "s1"
   ]
  },
  {
   "cell_type": "code",
   "execution_count": 101,
   "id": "842f07bf-0dc0-4b94-845e-a52fa580a411",
   "metadata": {},
   "outputs": [],
   "source": [
    "s1.remove(2.4)"
   ]
  },
  {
   "cell_type": "code",
   "execution_count": 102,
   "id": "bef75dc7-2ea0-4158-8e4e-9dd83444d64d",
   "metadata": {},
   "outputs": [
    {
     "data": {
      "text/plain": [
       "{10, 20, 60, 'Sai', True}"
      ]
     },
     "execution_count": 102,
     "metadata": {},
     "output_type": "execute_result"
    }
   ],
   "source": [
    "s1"
   ]
  },
  {
   "cell_type": "code",
   "execution_count": 106,
   "id": "7ac79d7a-a855-4eb1-b855-dcf9c4d281b3",
   "metadata": {},
   "outputs": [],
   "source": [
    "s1.add(\"Divya\")\n",
    "s1.add(3+5j)"
   ]
  },
  {
   "cell_type": "code",
   "execution_count": 109,
   "id": "ecab691f-a0c8-4b8f-aedf-d53fb69418df",
   "metadata": {},
   "outputs": [
    {
     "name": "stdout",
     "output_type": "stream",
     "text": [
      "True\n",
      "Sai\n",
      "10\n",
      "(3+5j)\n",
      "20\n",
      "60\n",
      "Divya\n"
     ]
    }
   ],
   "source": [
    "for i in s1: #prints each set element\n",
    "    print(i)"
   ]
  },
  {
   "cell_type": "code",
   "execution_count": 111,
   "id": "49ebe915-1690-45de-aac1-2e4bb42f0226",
   "metadata": {},
   "outputs": [
    {
     "name": "stdout",
     "output_type": "stream",
     "text": [
      "(0, True)\n",
      "(1, 'Sai')\n",
      "(2, 10)\n",
      "(3, (3+5j))\n",
      "(4, 20)\n",
      "(5, 60)\n",
      "(6, 'Divya')\n"
     ]
    }
   ],
   "source": [
    "for i in enumerate(s1): #print each set element along with the index value(not necessarily the order in which we added the elements)\n",
    "    print(i)"
   ]
  },
  {
   "cell_type": "markdown",
   "id": "ae09319a-aa2d-4d6a-9695-3fba8463c63e",
   "metadata": {},
   "source": [
    "### Set Membership"
   ]
  },
  {
   "cell_type": "code",
   "execution_count": 114,
   "id": "a166c5c7-a0d1-4a5b-b435-898a6c9e5e10",
   "metadata": {},
   "outputs": [
    {
     "data": {
      "text/plain": [
       "False"
      ]
     },
     "execution_count": 114,
     "metadata": {},
     "output_type": "execute_result"
    }
   ],
   "source": [
    "'k' in s1 #checks whether the specified element is present in the set or not and returns True/False"
   ]
  },
  {
   "cell_type": "code",
   "execution_count": 115,
   "id": "aa5f5ae7-276c-403a-a64b-e886262d2576",
   "metadata": {},
   "outputs": [
    {
     "data": {
      "text/plain": [
       "True"
      ]
     },
     "execution_count": 115,
     "metadata": {},
     "output_type": "execute_result"
    }
   ],
   "source": [
    "'k' in s3"
   ]
  },
  {
   "cell_type": "code",
   "execution_count": 116,
   "id": "8468be8b-62c7-4858-8834-af136417e471",
   "metadata": {},
   "outputs": [
    {
     "data": {
      "text/plain": [
       "False"
      ]
     },
     "execution_count": 116,
     "metadata": {},
     "output_type": "execute_result"
    }
   ],
   "source": [
    "5 in s3"
   ]
  },
  {
   "cell_type": "markdown",
   "id": "bb7929b7-d2a4-4b84-af2c-dfd7c847816c",
   "metadata": {},
   "source": [
    "# Set Operations"
   ]
  },
  {
   "cell_type": "markdown",
   "id": "850216ba-7063-41bc-a5ff-92f657d60ebb",
   "metadata": {},
   "source": [
    "### Union"
   ]
  },
  {
   "cell_type": "code",
   "execution_count": 134,
   "id": "21cf6bc6-8d31-4268-83c9-555621a8540a",
   "metadata": {},
   "outputs": [],
   "source": [
    "A = {1,2,3,4,5}\n",
    "B = {4,5,6,7,8}\n",
    "C = {7,8,9,10}"
   ]
  },
  {
   "cell_type": "code",
   "execution_count": 120,
   "id": "2e81153a-ba06-409d-bb3b-ce2a30e51e25",
   "metadata": {},
   "outputs": [
    {
     "data": {
      "text/plain": [
       "{1, 2, 3, 4, 5, 6, 7, 8}"
      ]
     },
     "execution_count": 120,
     "metadata": {},
     "output_type": "execute_result"
    }
   ],
   "source": [
    "A | B # Uninon - it combines both set elements and excludes the duplicates "
   ]
  },
  {
   "cell_type": "code",
   "execution_count": 121,
   "id": "df756ea0-bab6-4790-8a63-4785e0f8f597",
   "metadata": {},
   "outputs": [
    {
     "data": {
      "text/plain": [
       "{1, 2, 3, 4, 5, 6, 7, 8}"
      ]
     },
     "execution_count": 121,
     "metadata": {},
     "output_type": "execute_result"
    }
   ],
   "source": [
    "B.union(A) # Union can be defined both by union() function or | symbol"
   ]
  },
  {
   "cell_type": "code",
   "execution_count": 122,
   "id": "7d73e1bb-4482-4ea0-b18c-dd380a9d64c2",
   "metadata": {},
   "outputs": [
    {
     "data": {
      "text/plain": [
       "{1, 2, 3, 4, 5, 7, 8, 9, 10}"
      ]
     },
     "execution_count": 122,
     "metadata": {},
     "output_type": "execute_result"
    }
   ],
   "source": [
    "C.union(A) # union will merge the unique elements and returns a new set(original sets remains unchanged)"
   ]
  },
  {
   "cell_type": "code",
   "execution_count": 125,
   "id": "e112d7be-2155-47c8-8da7-c3be74a52ac6",
   "metadata": {},
   "outputs": [
    {
     "data": {
      "text/plain": [
       "{1, 2, 3, 4, 5, 6, 7, 8, 9, 10}"
      ]
     },
     "execution_count": 125,
     "metadata": {},
     "output_type": "execute_result"
    }
   ],
   "source": [
    "A.union(B,C) #union function allows multiple arguments"
   ]
  },
  {
   "cell_type": "code",
   "execution_count": 126,
   "id": "98fbcd9e-bc8a-4267-94f6-1b2211461ae5",
   "metadata": {},
   "outputs": [
    {
     "data": {
      "text/plain": [
       "{1, 12, 56, 98, 100}"
      ]
     },
     "execution_count": 126,
     "metadata": {},
     "output_type": "execute_result"
    }
   ],
   "source": [
    "D = {1,12,56,98,100}\n",
    "D"
   ]
  },
  {
   "cell_type": "code",
   "execution_count": 127,
   "id": "e66f0118-9f58-4b1b-bf49-2155353d2e28",
   "metadata": {},
   "outputs": [
    {
     "data": {
      "text/plain": [
       "{1, 2, 3, 4, 5, 6, 7, 8, 9, 10, 12, 56, 98, 100}"
      ]
     },
     "execution_count": 127,
     "metadata": {},
     "output_type": "execute_result"
    }
   ],
   "source": [
    "A.union(B,C,D)"
   ]
  },
  {
   "cell_type": "code",
   "execution_count": 129,
   "id": "fdf4a487-bdce-4fc7-aba5-43abbc6b7fc4",
   "metadata": {},
   "outputs": [
    {
     "data": {
      "text/plain": [
       "{1, 2, 3, 4, 5, 6, 7, 8, 9, 10}"
      ]
     },
     "execution_count": 129,
     "metadata": {},
     "output_type": "execute_result"
    }
   ],
   "source": [
    "C | B | A # returns the unordered list of unique elements(order is not guarenteed in set)"
   ]
  },
  {
   "cell_type": "code",
   "execution_count": 130,
   "id": "1d0e7e1a-1dfa-459a-897a-d9c0f5d2b347",
   "metadata": {},
   "outputs": [
    {
     "name": "stdout",
     "output_type": "stream",
     "text": [
      "{1, 2, 3, 4, 5, 6, 7, 8, 9, 10}\n"
     ]
    }
   ],
   "source": [
    "print(C | A | B)"
   ]
  },
  {
   "cell_type": "markdown",
   "id": "b179a68a-41de-4ad7-ab34-b9c5810f59a2",
   "metadata": {},
   "source": [
    "### Update"
   ]
  },
  {
   "cell_type": "code",
   "execution_count": 135,
   "id": "7d2a8253-aa08-470a-9b38-1d5807fb4dba",
   "metadata": {},
   "outputs": [
    {
     "name": "stdout",
     "output_type": "stream",
     "text": [
      "{1, 2, 3, 4, 5}\n"
     ]
    }
   ],
   "source": [
    "print(A)"
   ]
  },
  {
   "cell_type": "code",
   "execution_count": 143,
   "id": "68ae85b1-75be-462f-ab77-2b3ec335d416",
   "metadata": {},
   "outputs": [
    {
     "name": "stdout",
     "output_type": "stream",
     "text": [
      "{1, 2, 3, 4, 5, 6, 7, 8}\n"
     ]
    }
   ],
   "source": [
    "A.update(B) #updates the set with union of itself and other sets\n",
    "\n",
    "print(A)"
   ]
  },
  {
   "cell_type": "code",
   "execution_count": 144,
   "id": "e1dab281-1958-491d-ae92-068eb854f27f",
   "metadata": {},
   "outputs": [
    {
     "name": "stdout",
     "output_type": "stream",
     "text": [
      "{1, 2, 3, 4, 5, 6, 7, 8, 9, 10, 98, 100, 12, 56}\n"
     ]
    }
   ],
   "source": [
    "A.update(C,D) # update function will update the original set with the new union values\n",
    "\n",
    "print(A)"
   ]
  },
  {
   "cell_type": "code",
   "execution_count": 149,
   "id": "33c5d2b7-406c-4992-b7b4-a950d459cfd6",
   "metadata": {},
   "outputs": [
    {
     "name": "stdout",
     "output_type": "stream",
     "text": [
      "{1, 2, 3, 4, 5, 6, 7, 8, 9, 10, 98, 100, 12, 56}\n"
     ]
    }
   ],
   "source": [
    "print(A)"
   ]
  },
  {
   "cell_type": "code",
   "execution_count": 145,
   "id": "e2c615e3-7c06-4d7b-a8e8-e4b09cf9b6e9",
   "metadata": {},
   "outputs": [],
   "source": [
    "E = {1,3}\n",
    "F = {5,6,2}"
   ]
  },
  {
   "cell_type": "code",
   "execution_count": 146,
   "id": "bccfc401-bf94-478e-a791-422eb3906946",
   "metadata": {},
   "outputs": [
    {
     "data": {
      "text/plain": [
       "{1, 2, 3, 5, 6}"
      ]
     },
     "execution_count": 146,
     "metadata": {},
     "output_type": "execute_result"
    }
   ],
   "source": [
    "E | F # union will merge the unique elements and returns a new set(original sets remains unchanged)"
   ]
  },
  {
   "cell_type": "code",
   "execution_count": 148,
   "id": "593bf07f-a6a3-4378-9658-d26c15f41c01",
   "metadata": {},
   "outputs": [
    {
     "name": "stdout",
     "output_type": "stream",
     "text": [
      "{1, 3}\n",
      "{2, 5, 6}\n"
     ]
    }
   ],
   "source": [
    "print(E)\n",
    "print(F)"
   ]
  },
  {
   "cell_type": "markdown",
   "id": "2462282b-4b6d-499e-8fad-b730a4306903",
   "metadata": {},
   "source": [
    "### Intersection"
   ]
  },
  {
   "cell_type": "code",
   "execution_count": 150,
   "id": "a16c2fa6-fae3-4c25-ba14-aabc2e74debd",
   "metadata": {},
   "outputs": [
    {
     "name": "stdout",
     "output_type": "stream",
     "text": [
      "{1, 2, 3, 4, 5, 6, 7, 8, 9, 10, 98, 100, 12, 56}\n",
      "{4, 5, 6, 7, 8}\n",
      "{8, 9, 10, 7}\n"
     ]
    }
   ],
   "source": [
    "print(A)\n",
    "print(B)\n",
    "print(C)"
   ]
  },
  {
   "cell_type": "code",
   "execution_count": 153,
   "id": "2393db67-0805-4627-a01a-3e4d997fcf3e",
   "metadata": {},
   "outputs": [
    {
     "data": {
      "text/plain": [
       "{4, 5, 6, 7, 8}"
      ]
     },
     "execution_count": 153,
     "metadata": {},
     "output_type": "execute_result"
    }
   ],
   "source": [
    "A & B # intersection will returns a new set of the common elements of the specified sets"
   ]
  },
  {
   "cell_type": "code",
   "execution_count": 155,
   "id": "528dcba1-086b-40f8-843c-29a907dc50f6",
   "metadata": {},
   "outputs": [
    {
     "data": {
      "text/plain": [
       "{7, 8}"
      ]
     },
     "execution_count": 155,
     "metadata": {},
     "output_type": "execute_result"
    }
   ],
   "source": [
    "A.intersection(B,C) #intersection can be defined either by & symbol or intersection() function"
   ]
  },
  {
   "cell_type": "code",
   "execution_count": 158,
   "id": "1f772989-fd30-4d6b-95f0-7df29ea5f672",
   "metadata": {},
   "outputs": [
    {
     "data": {
      "text/plain": [
       "{7, 8}"
      ]
     },
     "execution_count": 158,
     "metadata": {},
     "output_type": "execute_result"
    }
   ],
   "source": [
    "A & C & B"
   ]
  },
  {
   "cell_type": "code",
   "execution_count": 159,
   "id": "bbab6ef5-2b17-4f09-9164-bba73bfbc7dd",
   "metadata": {},
   "outputs": [
    {
     "name": "stdout",
     "output_type": "stream",
     "text": [
      "{1, 2, 3, 4, 5, 6, 7, 8, 9, 10, 98, 100, 12, 56}\n",
      "{4, 5, 6, 7, 8}\n",
      "{8, 9, 10, 7}\n"
     ]
    }
   ],
   "source": [
    "print(A) # original sets remains unchanged as intersection() will returns a new set\n",
    "print(B)\n",
    "print(C)"
   ]
  },
  {
   "cell_type": "markdown",
   "id": "098e095d-a039-4816-8350-67b66c2ca488",
   "metadata": {},
   "source": [
    "### difference function"
   ]
  },
  {
   "cell_type": "code",
   "execution_count": 160,
   "id": "eb439645-022d-49e7-94da-4d048ce9c186",
   "metadata": {},
   "outputs": [
    {
     "data": {
      "text/plain": [
       "{1, 2, 3, 9, 10, 12, 56, 98, 100}"
      ]
     },
     "execution_count": 160,
     "metadata": {},
     "output_type": "execute_result"
    }
   ],
   "source": [
    "A.difference(B) # difference function will returns the uncommon elements of the 1st set"
   ]
  },
  {
   "cell_type": "code",
   "execution_count": 162,
   "id": "1bc15c8d-efbc-48d8-8211-3169e69ca4cb",
   "metadata": {},
   "outputs": [
    {
     "data": {
      "text/plain": [
       "set()"
      ]
     },
     "execution_count": 162,
     "metadata": {},
     "output_type": "execute_result"
    }
   ],
   "source": [
    "B.difference(A) # returns an empty set as B doesn't have any uncommon elements "
   ]
  },
  {
   "cell_type": "code",
   "execution_count": 166,
   "id": "f2491e48-03ae-4a3d-9502-762d231811fa",
   "metadata": {},
   "outputs": [
    {
     "data": {
      "text/plain": [
       "{4, 5, 6}"
      ]
     },
     "execution_count": 166,
     "metadata": {},
     "output_type": "execute_result"
    }
   ],
   "source": [
    "B - C # difference function can be defined either by - symbol or difference() function"
   ]
  },
  {
   "cell_type": "code",
   "execution_count": 167,
   "id": "e86d1254-d8d0-4a5f-9fd3-f05675ec4ff5",
   "metadata": {},
   "outputs": [
    {
     "data": {
      "text/plain": [
       "set()"
      ]
     },
     "execution_count": 167,
     "metadata": {},
     "output_type": "execute_result"
    }
   ],
   "source": [
    "C - A # returns empty set as C doesn't have any different elements than A"
   ]
  },
  {
   "cell_type": "code",
   "execution_count": 169,
   "id": "36af466a-b8f8-4540-8db9-d46a65ecca29",
   "metadata": {},
   "outputs": [
    {
     "data": {
      "text/plain": [
       "{9, 10}"
      ]
     },
     "execution_count": 169,
     "metadata": {},
     "output_type": "execute_result"
    }
   ],
   "source": [
    "C - B # returns the different elements of C by excluding the unique elements of both B and C sets"
   ]
  },
  {
   "cell_type": "code",
   "execution_count": 173,
   "id": "053f4535-c442-4586-800d-81718fc6e941",
   "metadata": {},
   "outputs": [
    {
     "data": {
      "text/plain": [
       "set()"
      ]
     },
     "execution_count": 173,
     "metadata": {},
     "output_type": "execute_result"
    }
   ],
   "source": [
    "C - (B | A) # returns the different elements present in set C by excluding the common elements of union of A and B "
   ]
  },
  {
   "cell_type": "code",
   "execution_count": 175,
   "id": "8f42c47c-3d17-4524-aea6-d67feb8365e8",
   "metadata": {},
   "outputs": [
    {
     "data": {
      "text/plain": [
       "{1, 2, 3, 12, 56, 98, 100}"
      ]
     },
     "execution_count": 175,
     "metadata": {},
     "output_type": "execute_result"
    }
   ],
   "source": [
    "A - (B | C) # returns the different elements of set A by exluding the common elements of B and C(we're combining sets B and C by union)"
   ]
  },
  {
   "cell_type": "code",
   "execution_count": null,
   "id": "30baeb1c-c634-407c-9aaf-2e7e9d399845",
   "metadata": {},
   "outputs": [],
   "source": []
  }
 ],
 "metadata": {
  "kernelspec": {
   "display_name": "Python 3 (ipykernel)",
   "language": "python",
   "name": "python3"
  },
  "language_info": {
   "codemirror_mode": {
    "name": "ipython",
    "version": 3
   },
   "file_extension": ".py",
   "mimetype": "text/x-python",
   "name": "python",
   "nbconvert_exporter": "python",
   "pygments_lexer": "ipython3",
   "version": "3.12.7"
  }
 },
 "nbformat": 4,
 "nbformat_minor": 5
}
